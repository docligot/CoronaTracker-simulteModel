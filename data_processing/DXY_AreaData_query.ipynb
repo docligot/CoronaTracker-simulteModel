{
 "cells": [
  {
   "cell_type": "code",
   "execution_count": 1,
   "metadata": {},
   "outputs": [],
   "source": [
    "## Query real time data from DingXiangYuan, and keep the latest records every day for each city\n",
    "\n",
    "## Created on Sat Feb  8 12:41:50 2020\n",
    "## Author: leebond\n",
    "#### resource: https://github.com/jianxu305/nCov2019_analysis\n",
    "\n",
    "import pandas as pd\n",
    "import matplotlib.pyplot as plt\n",
    "import utils   # some convenient functions\n",
    "import pandas as pd\n",
    "import pickle as pkl\n",
    "import warnings\n",
    "warnings.filterwarnings('ignore')\n",
    "from googletrans import Translator # package used to translate Chinese into English\n",
    "translator = Translator()"
   ]
  },
  {
   "cell_type": "code",
   "execution_count": 2,
   "metadata": {},
   "outputs": [
    {
     "name": "stdout",
     "output_type": "stream",
     "text": [
      "Latest Update Time:  2020-02-08 14:32:33.025000\n",
      "Data Range:  2020-01-24 to 2020-02-08\n",
      "Data Size:  24728\n"
     ]
    },
    {
     "data": {
      "text/html": [
       "<div>\n",
       "<style scoped>\n",
       "    .dataframe tbody tr th:only-of-type {\n",
       "        vertical-align: middle;\n",
       "    }\n",
       "\n",
       "    .dataframe tbody tr th {\n",
       "        vertical-align: top;\n",
       "    }\n",
       "\n",
       "    .dataframe thead th {\n",
       "        text-align: right;\n",
       "    }\n",
       "</style>\n",
       "<table border=\"1\" class=\"dataframe\">\n",
       "  <thead>\n",
       "    <tr style=\"text-align: right;\">\n",
       "      <th></th>\n",
       "      <th>provinceName</th>\n",
       "      <th>cityName</th>\n",
       "      <th>province_confirmedCount</th>\n",
       "      <th>province_suspectedCount</th>\n",
       "      <th>province_curedCount</th>\n",
       "      <th>province_deadCount</th>\n",
       "      <th>city_confirmedCount</th>\n",
       "      <th>city_suspectedCount</th>\n",
       "      <th>city_curedCount</th>\n",
       "      <th>city_deadCount</th>\n",
       "      <th>updateTime</th>\n",
       "      <th>updateDate</th>\n",
       "    </tr>\n",
       "  </thead>\n",
       "  <tbody>\n",
       "    <tr>\n",
       "      <th>0</th>\n",
       "      <td>四川省</td>\n",
       "      <td>成都</td>\n",
       "      <td>363</td>\n",
       "      <td>0</td>\n",
       "      <td>54</td>\n",
       "      <td>1</td>\n",
       "      <td>109</td>\n",
       "      <td>0</td>\n",
       "      <td>33</td>\n",
       "      <td>1</td>\n",
       "      <td>2020-02-08 14:32:33.025</td>\n",
       "      <td>2020-02-08</td>\n",
       "    </tr>\n",
       "    <tr>\n",
       "      <th>1</th>\n",
       "      <td>四川省</td>\n",
       "      <td>南充</td>\n",
       "      <td>363</td>\n",
       "      <td>0</td>\n",
       "      <td>54</td>\n",
       "      <td>1</td>\n",
       "      <td>31</td>\n",
       "      <td>0</td>\n",
       "      <td>2</td>\n",
       "      <td>0</td>\n",
       "      <td>2020-02-08 14:32:33.025</td>\n",
       "      <td>2020-02-08</td>\n",
       "    </tr>\n",
       "  </tbody>\n",
       "</table>\n",
       "</div>"
      ],
      "text/plain": [
       "  provinceName cityName  province_confirmedCount  province_suspectedCount  \\\n",
       "0          四川省       成都                      363                        0   \n",
       "1          四川省       南充                      363                        0   \n",
       "\n",
       "   province_curedCount  province_deadCount  city_confirmedCount  \\\n",
       "0                   54                   1                  109   \n",
       "1                   54                   1                   31   \n",
       "\n",
       "   city_suspectedCount  city_curedCount  city_deadCount  \\\n",
       "0                    0               33               1   \n",
       "1                    0                2               0   \n",
       "\n",
       "               updateTime  updateDate  \n",
       "0 2020-02-08 14:32:33.025  2020-02-08  \n",
       "1 2020-02-08 14:32:33.025  2020-02-08  "
      ]
     },
     "execution_count": 2,
     "metadata": {},
     "output_type": "execute_result"
    }
   ],
   "source": [
    "DXYArea = utils.load_chinese_data() # Query latest Regional Data from DXY\n",
    "DXYArea.head(2)  "
   ]
  },
  {
   "cell_type": "code",
   "execution_count": 3,
   "metadata": {},
   "outputs": [],
   "source": [
    "daily_frm_DXYArea = utils.aggDaily(DXYArea)  # aggregate to daily data (keep the latest records every day)"
   ]
  },
  {
   "cell_type": "code",
   "execution_count": 4,
   "metadata": {},
   "outputs": [
    {
     "data": {
      "text/plain": [
       "24728"
      ]
     },
     "execution_count": 4,
     "metadata": {},
     "output_type": "execute_result"
    }
   ],
   "source": [
    "len(DXYArea)"
   ]
  },
  {
   "cell_type": "code",
   "execution_count": 5,
   "metadata": {},
   "outputs": [
    {
     "data": {
      "text/plain": [
       "5671"
      ]
     },
     "execution_count": 5,
     "metadata": {},
     "output_type": "execute_result"
    }
   ],
   "source": [
    "len(daily_frm_DXYArea)"
   ]
  },
  {
   "cell_type": "code",
   "execution_count": 6,
   "metadata": {},
   "outputs": [],
   "source": [
    "## Resoruce for Chinese - English Translation\n",
    "with open('chineseProvince_to_EN.pkl','rb') as f:\n",
    "    prov_dict = pkl.load(f)\n",
    "with open('chineseCity_to_EN.pkl','rb') as f:\n",
    "    city_dict = pkl.load(f)\n",
    "    # some new area is not included in city_dict, so manually update\n",
    "    city_dict['密云区'] = 'MiYun District' \n",
    "    city_dict['武清区'] = 'WuQing District'\n",
    "    city_dict['兵团第十二师'] = '12-th BingTuanGroup'\n",
    "    city_dict['昌吉州'] = 'ChangJi'\n",
    "    city_dict['阿克苏地区'] = 'AKeSu'\n",
    "        \n",
    "def translate_to_English(data, prov_dict, city_dict):\n",
    "    \"\"\"Translate Chinese in dataset to English\n",
    "    \"\"\"        \n",
    "    data['provinceName'] = data['provinceName'].apply(getProvinceTranslation)\n",
    "    data['cityName'] = data['cityName'].apply(getCityTranslation)\n",
    "    return data\n",
    "    \n",
    "def getProvinceTranslation(name):\n",
    "    return prov_dict[name]\n",
    "\n",
    "def getCityTranslation(name):\n",
    "    try:\n",
    "        return city_dict[name]\n",
    "    except KeyError:\n",
    "        print(name + 'cannot be translated, ask Yiran to mannully Translate\\n')"
   ]
  },
  {
   "cell_type": "code",
   "execution_count": 7,
   "metadata": {},
   "outputs": [
    {
     "data": {
      "text/html": [
       "<div>\n",
       "<style scoped>\n",
       "    .dataframe tbody tr th:only-of-type {\n",
       "        vertical-align: middle;\n",
       "    }\n",
       "\n",
       "    .dataframe tbody tr th {\n",
       "        vertical-align: top;\n",
       "    }\n",
       "\n",
       "    .dataframe thead th {\n",
       "        text-align: right;\n",
       "    }\n",
       "</style>\n",
       "<table border=\"1\" class=\"dataframe\">\n",
       "  <thead>\n",
       "    <tr style=\"text-align: right;\">\n",
       "      <th></th>\n",
       "      <th>provinceName</th>\n",
       "      <th>cityName</th>\n",
       "      <th>confirmed</th>\n",
       "      <th>cured</th>\n",
       "      <th>dead</th>\n",
       "      <th>updateTime</th>\n",
       "      <th>updateDate</th>\n",
       "    </tr>\n",
       "  </thead>\n",
       "  <tbody>\n",
       "    <tr>\n",
       "      <th>23738</th>\n",
       "      <td>Yunnan Province</td>\n",
       "      <td>Lijiang City</td>\n",
       "      <td>1</td>\n",
       "      <td>0</td>\n",
       "      <td>0</td>\n",
       "      <td>2020-01-24 23:55:14.973</td>\n",
       "      <td>2020-01-24</td>\n",
       "    </tr>\n",
       "    <tr>\n",
       "      <th>23736</th>\n",
       "      <td>Yunnan Province</td>\n",
       "      <td>Kunming</td>\n",
       "      <td>3</td>\n",
       "      <td>0</td>\n",
       "      <td>0</td>\n",
       "      <td>2020-01-24 23:55:14.973</td>\n",
       "      <td>2020-01-24</td>\n",
       "    </tr>\n",
       "    <tr>\n",
       "      <th>23737</th>\n",
       "      <td>Yunnan Province</td>\n",
       "      <td>Xishuangbanna</td>\n",
       "      <td>1</td>\n",
       "      <td>0</td>\n",
       "      <td>0</td>\n",
       "      <td>2020-01-24 23:55:14.973</td>\n",
       "      <td>2020-01-24</td>\n",
       "    </tr>\n",
       "  </tbody>\n",
       "</table>\n",
       "</div>"
      ],
      "text/plain": [
       "          provinceName       cityName  confirmed  cured  dead  \\\n",
       "23738  Yunnan Province   Lijiang City          1      0     0   \n",
       "23736  Yunnan Province        Kunming          3      0     0   \n",
       "23737  Yunnan Province  Xishuangbanna          1      0     0   \n",
       "\n",
       "                   updateTime  updateDate  \n",
       "23738 2020-01-24 23:55:14.973  2020-01-24  \n",
       "23736 2020-01-24 23:55:14.973  2020-01-24  \n",
       "23737 2020-01-24 23:55:14.973  2020-01-24  "
      ]
     },
     "execution_count": 7,
     "metadata": {},
     "output_type": "execute_result"
    }
   ],
   "source": [
    "daily_frm_DXYArea = translate_to_English(daily_frm_DXYArea, prov_dict, city_dict)\n",
    "\n",
    "daily_frm_DXYArea.head(3)"
   ]
  },
  {
   "cell_type": "code",
   "execution_count": 10,
   "metadata": {},
   "outputs": [],
   "source": [
    "daily_frm_DXYArea.to_csv ('../data/DXYArea.csv', index = None, header=True)"
   ]
  },
  {
   "cell_type": "code",
   "execution_count": null,
   "metadata": {},
   "outputs": [],
   "source": []
  }
 ],
 "metadata": {
  "kernelspec": {
   "display_name": "Python 3",
   "language": "python",
   "name": "python3"
  },
  "language_info": {
   "codemirror_mode": {
    "name": "ipython",
    "version": 3
   },
   "file_extension": ".py",
   "mimetype": "text/x-python",
   "name": "python",
   "nbconvert_exporter": "python",
   "pygments_lexer": "ipython3",
   "version": "3.7.3"
  }
 },
 "nbformat": 4,
 "nbformat_minor": 2
}
