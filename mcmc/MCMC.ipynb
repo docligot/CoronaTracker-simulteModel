{
 "cells": [
  {
   "cell_type": "code",
   "execution_count": 1,
   "metadata": {},
   "outputs": [],
   "source": [
    "import numpy as np\n",
    "import scipy\n",
    "import scipy.stats\n",
    "import seaborn as sb\n",
    "import matplotlib.pyplot as plt\n",
    "from datetime import datetime\n",
    "import pandas as pd\n",
    "import os, re, sys\n",
    "from helper_fun_model import *\n",
    "import warnings\n",
    "warnings.filterwarnings('ignore')\n",
    "%matplotlib inline\n",
    "pd.set_option('display.max_columns',300)\n",
    "pd.set_option('display.max_rows',300)"
   ]
  },
  {
   "cell_type": "markdown",
   "metadata": {},
   "source": [
    "## Data source\n",
    "#### source https://github.com/BlankerL/DXY-COVID-19-Data\n",
    "- Covid infection data of China only\n",
    "- using this source as previous source is not updating and had only counts till Feb 11\n",
    "- git clone https://github.com/BlankerL/DXY-COVID-19-Data.git first"
   ]
  },
  {
   "cell_type": "code",
   "execution_count": 23,
   "metadata": {},
   "outputs": [],
   "source": [
    "df_blanker = pd.read_csv(\"../../DXY-COVID-19-Data/csv/DXYArea.csv\", parse_dates=True)"
   ]
  },
  {
   "cell_type": "code",
   "execution_count": 3,
   "metadata": {
    "scrolled": true
   },
   "outputs": [
    {
     "data": {
      "text/plain": [
       "(43333, 15)"
      ]
     },
     "execution_count": 3,
     "metadata": {},
     "output_type": "execute_result"
    }
   ],
   "source": [
    "df_blanker.shape"
   ]
  },
  {
   "cell_type": "code",
   "execution_count": 4,
   "metadata": {},
   "outputs": [],
   "source": [
    "df_blanker = df_blanker[df_blanker['provinceEnglishName']=='Hubei']"
   ]
  },
  {
   "cell_type": "code",
   "execution_count": 5,
   "metadata": {},
   "outputs": [
    {
     "data": {
      "text/html": [
       "<div>\n",
       "<style scoped>\n",
       "    .dataframe tbody tr th:only-of-type {\n",
       "        vertical-align: middle;\n",
       "    }\n",
       "\n",
       "    .dataframe tbody tr th {\n",
       "        vertical-align: top;\n",
       "    }\n",
       "\n",
       "    .dataframe thead th {\n",
       "        text-align: right;\n",
       "    }\n",
       "</style>\n",
       "<table border=\"1\" class=\"dataframe\">\n",
       "  <thead>\n",
       "    <tr style=\"text-align: right;\">\n",
       "      <th></th>\n",
       "      <th>provinceName</th>\n",
       "      <th>provinceEnglishName</th>\n",
       "      <th>province_zipCode</th>\n",
       "      <th>cityName</th>\n",
       "      <th>cityEnglishName</th>\n",
       "      <th>city_zipCode</th>\n",
       "      <th>province_confirmedCount</th>\n",
       "      <th>province_suspectedCount</th>\n",
       "      <th>province_curedCount</th>\n",
       "      <th>province_deadCount</th>\n",
       "      <th>city_confirmedCount</th>\n",
       "      <th>city_suspectedCount</th>\n",
       "      <th>city_curedCount</th>\n",
       "      <th>city_deadCount</th>\n",
       "      <th>updateTime</th>\n",
       "    </tr>\n",
       "  </thead>\n",
       "  <tbody>\n",
       "    <tr>\n",
       "      <th>204</th>\n",
       "      <td>湖北省</td>\n",
       "      <td>Hubei</td>\n",
       "      <td>420000</td>\n",
       "      <td>武汉</td>\n",
       "      <td>Wuhan</td>\n",
       "      <td>420100.0</td>\n",
       "      <td>58182</td>\n",
       "      <td>0</td>\n",
       "      <td>6693</td>\n",
       "      <td>1696</td>\n",
       "      <td>41152</td>\n",
       "      <td>0</td>\n",
       "      <td>3507</td>\n",
       "      <td>1309</td>\n",
       "      <td>2020-02-17 20:22:59.982</td>\n",
       "    </tr>\n",
       "    <tr>\n",
       "      <th>205</th>\n",
       "      <td>湖北省</td>\n",
       "      <td>Hubei</td>\n",
       "      <td>420000</td>\n",
       "      <td>孝感</td>\n",
       "      <td>Xiaogan</td>\n",
       "      <td>420900.0</td>\n",
       "      <td>58182</td>\n",
       "      <td>0</td>\n",
       "      <td>6693</td>\n",
       "      <td>1696</td>\n",
       "      <td>3279</td>\n",
       "      <td>0</td>\n",
       "      <td>449</td>\n",
       "      <td>70</td>\n",
       "      <td>2020-02-17 20:22:59.982</td>\n",
       "    </tr>\n",
       "    <tr>\n",
       "      <th>206</th>\n",
       "      <td>湖北省</td>\n",
       "      <td>Hubei</td>\n",
       "      <td>420000</td>\n",
       "      <td>黄冈</td>\n",
       "      <td>Huanggang</td>\n",
       "      <td>421100.0</td>\n",
       "      <td>58182</td>\n",
       "      <td>0</td>\n",
       "      <td>6693</td>\n",
       "      <td>1696</td>\n",
       "      <td>2831</td>\n",
       "      <td>0</td>\n",
       "      <td>839</td>\n",
       "      <td>78</td>\n",
       "      <td>2020-02-17 20:22:59.982</td>\n",
       "    </tr>\n",
       "    <tr>\n",
       "      <th>207</th>\n",
       "      <td>湖北省</td>\n",
       "      <td>Hubei</td>\n",
       "      <td>420000</td>\n",
       "      <td>荆州</td>\n",
       "      <td>Jingzhou</td>\n",
       "      <td>421000.0</td>\n",
       "      <td>58182</td>\n",
       "      <td>0</td>\n",
       "      <td>6693</td>\n",
       "      <td>1696</td>\n",
       "      <td>1501</td>\n",
       "      <td>0</td>\n",
       "      <td>305</td>\n",
       "      <td>37</td>\n",
       "      <td>2020-02-17 20:22:59.982</td>\n",
       "    </tr>\n",
       "    <tr>\n",
       "      <th>208</th>\n",
       "      <td>湖北省</td>\n",
       "      <td>Hubei</td>\n",
       "      <td>420000</td>\n",
       "      <td>随州</td>\n",
       "      <td>Suizhou</td>\n",
       "      <td>421300.0</td>\n",
       "      <td>58182</td>\n",
       "      <td>0</td>\n",
       "      <td>6693</td>\n",
       "      <td>1696</td>\n",
       "      <td>1267</td>\n",
       "      <td>0</td>\n",
       "      <td>140</td>\n",
       "      <td>24</td>\n",
       "      <td>2020-02-17 20:22:59.982</td>\n",
       "    </tr>\n",
       "  </tbody>\n",
       "</table>\n",
       "</div>"
      ],
      "text/plain": [
       "    provinceName provinceEnglishName  province_zipCode cityName  \\\n",
       "204          湖北省               Hubei            420000       武汉   \n",
       "205          湖北省               Hubei            420000       孝感   \n",
       "206          湖北省               Hubei            420000       黄冈   \n",
       "207          湖北省               Hubei            420000       荆州   \n",
       "208          湖北省               Hubei            420000       随州   \n",
       "\n",
       "    cityEnglishName  city_zipCode  province_confirmedCount  \\\n",
       "204           Wuhan      420100.0                    58182   \n",
       "205         Xiaogan      420900.0                    58182   \n",
       "206       Huanggang      421100.0                    58182   \n",
       "207        Jingzhou      421000.0                    58182   \n",
       "208         Suizhou      421300.0                    58182   \n",
       "\n",
       "     province_suspectedCount  province_curedCount  province_deadCount  \\\n",
       "204                        0                 6693                1696   \n",
       "205                        0                 6693                1696   \n",
       "206                        0                 6693                1696   \n",
       "207                        0                 6693                1696   \n",
       "208                        0                 6693                1696   \n",
       "\n",
       "     city_confirmedCount  city_suspectedCount  city_curedCount  \\\n",
       "204                41152                    0             3507   \n",
       "205                 3279                    0              449   \n",
       "206                 2831                    0              839   \n",
       "207                 1501                    0              305   \n",
       "208                 1267                    0              140   \n",
       "\n",
       "     city_deadCount               updateTime  \n",
       "204            1309  2020-02-17 20:22:59.982  \n",
       "205              70  2020-02-17 20:22:59.982  \n",
       "206              78  2020-02-17 20:22:59.982  \n",
       "207              37  2020-02-17 20:22:59.982  \n",
       "208              24  2020-02-17 20:22:59.982  "
      ]
     },
     "execution_count": 5,
     "metadata": {},
     "output_type": "execute_result"
    }
   ],
   "source": [
    "df_blanker.head()"
   ]
  },
  {
   "cell_type": "code",
   "execution_count": 6,
   "metadata": {},
   "outputs": [],
   "source": [
    "df_blanker['date'] = df_blanker['updateTime'].apply(lambda x: datetime.datetime.strptime(x, '%Y-%m-%d %H:%M:%S.%f').date())"
   ]
  },
  {
   "cell_type": "code",
   "execution_count": 7,
   "metadata": {
    "scrolled": false
   },
   "outputs": [],
   "source": [
    "# Each record is city level counts updated at different timings, therefore we need to first \n",
    "# extract each city's max update time\n",
    "df_daily_max_datetime = df_blanker.groupby(['date','cityName']).agg({'updateTime':'max'}).reset_index()"
   ]
  },
  {
   "cell_type": "code",
   "execution_count": 8,
   "metadata": {},
   "outputs": [],
   "source": [
    "# then we do a join with the current data on city and on the MAX updatetime\n",
    "df_daily_max = pd.merge(df_daily_max_datetime, df_blanker, on=['updateTime','date','cityName'], how='inner')"
   ]
  },
  {
   "cell_type": "code",
   "execution_count": 9,
   "metadata": {},
   "outputs": [],
   "source": [
    "covid_cn = df_daily_max.groupby('date').agg({'city_confirmedCount':'sum'}).reset_index()\n",
    "covid_cn = covid_cn.iloc[:len(covid_cn)-1 ,:] ## remove today's data as it will not be complete\n",
    "covid_cn.columns = ['date','infected']"
   ]
  },
  {
   "cell_type": "code",
   "execution_count": 10,
   "metadata": {},
   "outputs": [],
   "source": [
    "covid_cn['new infected'] = covid_cn['infected'].diff().fillna(1)"
   ]
  },
  {
   "cell_type": "code",
   "execution_count": 11,
   "metadata": {},
   "outputs": [
    {
     "data": {
      "image/png": "[encoded data removed]",
      "text/plain": [
       "<Figure size 432x288 with 1 Axes>"
      ]
     },
     "metadata": {
      "needs_background": "light"
     },
     "output_type": "display_data"
    }
   ],
   "source": [
    "plt.hist(covid_cn['infected'], bins = 30)\n",
    "plt.show()"
   ]
  },
  {
   "cell_type": "code",
   "execution_count": 12,
   "metadata": {},
   "outputs": [
    {
     "data": {
      "image/png": "[encoded data removed]",
      "text/plain": [
       "<Figure size 432x288 with 1 Axes>"
      ]
     },
     "metadata": {
      "needs_background": "light"
     },
     "output_type": "display_data"
    }
   ],
   "source": [
    "sb.distplot(covid_cn['new infected'], bins=50, kde=False, rug=True);"
   ]
  },
  {
   "cell_type": "code",
   "execution_count": 13,
   "metadata": {},
   "outputs": [
    {
     "data": {
      "image/png": "[encoded data removed]",
      "text/plain": [
       "<Figure size 432x288 with 1 Axes>"
      ]
     },
     "metadata": {
      "needs_background": "light"
     },
     "output_type": "display_data"
    }
   ],
   "source": [
    "count, gbins, ignored = plt.hist(covid_cn['new infected'], bins=50)"
   ]
  },
  {
   "cell_type": "code",
   "execution_count": 14,
   "metadata": {},
   "outputs": [
    {
     "data": {
      "image/png": "[encoded data removed]",
      "text/plain": [
       "<Figure size 432x288 with 1 Axes>"
      ]
     },
     "metadata": {
      "needs_background": "light"
     },
     "output_type": "display_data"
    }
   ],
   "source": [
    "shape, scale = 4.3, 530 # mean=4, std=2*sqrt(2)\n",
    "import scipy.special as sps\n",
    "\n",
    "# gcount, gbins, gignored = plt.hist(data, 200, density=True)\n",
    "# y = gbins**(shape-1)*(np.exp(-gbins/scale) /(sps.gamma(shape)*scale**shape))\n",
    "# plt.plot(gbins, y, linewidth=2, color='r')\n",
    "# plt.show()\n",
    "\n",
    "# count, gbins, ignored = plt.hist(covid_cn['new infected'], bins=50)\n",
    "y = gbins**(shape-1)*(np.exp(-gbins/scale) /(sps.gamma(shape)*scale**shape))\n",
    "plt.plot(gbins, y, linewidth=2, color='r')\n",
    "sb.kdeplot(covid_cn['new infected'], shade=True).set(xlim=(0))\n",
    "\n",
    "plt.show()"
   ]
  },
  {
   "cell_type": "markdown",
   "metadata": {},
   "source": [
    "# MCMC"
   ]
  },
  {
   "cell_type": "code",
   "execution_count": 15,
   "metadata": {},
   "outputs": [],
   "source": [
    "mu = covid_cn['new infected'].mean()\n",
    "sigma = covid_cn['new infected'].std()"
   ]
  },
  {
   "cell_type": "code",
   "execution_count": 16,
   "metadata": {},
   "outputs": [
    {
     "data": {
      "text/plain": [
       "(2320.875, 2844.88844913882)"
      ]
     },
     "execution_count": 16,
     "metadata": {},
     "output_type": "execute_result"
    }
   ],
   "source": [
    "mu, sigma"
   ]
  },
  {
   "cell_type": "code",
   "execution_count": 42,
   "metadata": {},
   "outputs": [
    {
     "name": "stdout",
     "output_type": "stream",
     "text": [
      "Efficiency = 0.3728\n"
     ]
    }
   ],
   "source": [
    "# adapted from https://people.duke.edu/~ccc14/sta-663/MCMC.html\n",
    "from scipy.stats import gamma, norm\n",
    "\n",
    "def target(theta):\n",
    "    return gamma.pdf(theta, a=4.3, scale=530)\n",
    "\n",
    "def transition(theta1, theta2):\n",
    "    return norm.pdf(abs(theta-theta2))\n",
    "\n",
    "prior = gamma(a=4.1, scale=530)\n",
    "\n",
    "theta = mu\n",
    "niters = 10000\n",
    "samples = []\n",
    "samples.append((0,theta))\n",
    "for i in range(1, niters):\n",
    "    theta_p = theta + np.random.normal(0, 2.5) # using sigma > 1 because sigma = 1 gives efficiency of 70+%, we can give up some efficiency for better samples\n",
    "    T_next = target(theta_p)*transition(theta, theta_p) # π(x_cand)q(x(i−1)|x_cand)\n",
    "    T_prev = target(theta)*transition(theta_p, theta) #   π(x(i−1))q(x_cand|x(i−1))\n",
    "    \n",
    "    a = min(1, max(T_next/T_prev,0))\n",
    "    u = np.random.uniform()\n",
    "    if u < a:\n",
    "        theta = theta_p\n",
    "        samples.append((i,theta))\n",
    "print(\"Efficiency = %s\" %(len(samples)/niters))"
   ]
  },
  {
   "cell_type": "code",
   "execution_count": 43,
   "metadata": {},
   "outputs": [
    {
     "name": "stdout",
     "output_type": "stream",
     "text": [
      "Mean of samples: 2329.3934976652527\n",
      "Stddev of samples: 16.153078525256042\n"
     ]
    }
   ],
   "source": [
    "val = np.sum([s[1] for s in samples])\n",
    "print(\"Mean of samples: %s\" %(val/len(samples)))\n",
    "print(\"Stddev of samples: %s\" %(np.std([s[1] for s in samples])))"
   ]
  },
  {
   "cell_type": "code",
   "execution_count": 44,
   "metadata": {},
   "outputs": [
    {
     "data": {
      "image/png": "[encoded data removed]",
      "text/plain": [
       "<Figure size 432x288 with 1 Axes>"
      ]
     },
     "metadata": {
      "needs_background": "light"
     },
     "output_type": "display_data"
    }
   ],
   "source": [
    "plt.hist([s[1] for s in samples], bins=50)\n",
    "plt.show()"
   ]
  },
  {
   "cell_type": "code",
   "execution_count": null,
   "metadata": {},
   "outputs": [],
   "source": []
  },
  {
   "cell_type": "markdown",
   "metadata": {},
   "source": [
    "## References"
   ]
  },
  {
   "cell_type": "code",
   "execution_count": null,
   "metadata": {
    "scrolled": true
   },
   "outputs": [],
   "source": [
    "import copy\n",
    "\n",
    "prev_draw = np.random.normal(mu,sigma) #Initialize x(0) ∼ q(x)\n",
    "sample = []\n",
    "steps = 1000\n",
    "\n",
    "for i in range(1, steps):\n",
    "    if i == 0:\n",
    "        prev_draw = copy.copy(mu)\n",
    "    else:\n",
    "        current = np.random.normal(mu,sigma)\n",
    "        candidate = transition_model(current, prev_draw) #Propose: x_cand ∼ q(x(i)|x(i−1))\n",
    "        print(\"%s, current: %s candidate: %s\" %(i,current,candidate))\n",
    "        T_next = target_model(candidate) # π(x_cand)q(x(i−1)|x_cand)\n",
    "        T_prev = target_model(current) #   π(x(i−1))q(x_cand|x(i−1))\n",
    "        a = min(1, max(T_next / T_prev,0)) # Acceptance Probability\n",
    "\n",
    "        if a > np.random.uniform(0, 1): # u ∼ Uniform (u; 0, 1)\n",
    "            # Update state\n",
    "            print(\"accepted, current: %s candidate: %s\" %(current,candidate))\n",
    "            current = copy.copy(candidate) # Accept the proposal: x(i) ← x_cand\n",
    "            sample.append(current)\n",
    "print('Accept ratio:', float(len(sample)) / steps)"
   ]
  },
  {
   "cell_type": "code",
   "execution_count": null,
   "metadata": {},
   "outputs": [],
   "source": [
    "# P(x) : Target distribution\n",
    "def P(x1, x2, b):\n",
    "    return np.exp(-0.5 * (x1**2 - 2*b*x1*x2 + x2**2))\n",
    "\n",
    "\n",
    "# Q(x) : Proposal distribution\n",
    "def Q(c, mu1, mu2, sigma):\n",
    "    return (c[0] * np.random.normal(mu1, sigma), c[1] * np.random.normal(mu2, sigma))\n",
    "\n",
    "def metropolisHastings(mu, sigma):\n",
    "    current = (10, 10)\n",
    "    sample = []\n",
    "    sample.append(current)\n",
    "    accept_ratio = []\n",
    "\n",
    "    for i in range(N):\n",
    "        candidate = Q(current, mu1, mu2, sigma)\n",
    "\n",
    "        T_prev = P(current[0], current[1], b)\n",
    "        T_next = P(candidate[0], candidate[1], b)\n",
    "        a = T_next / T_prev\n",
    "\n",
    "        if a > 1 or a > np.random.uniform(0, 1):\n",
    "            # Update state\n",
    "            current = copy.copy(candidate)\n",
    "            sample.append(current)\n",
    "            accept_ratio.append(i)\n",
    "\n",
    "    print('Accept ratio:', float(len(accept_ratio)) / N)\n",
    "    return np.array(sample)"
   ]
  }
 ],
 "metadata": {
  "kernelspec": {
   "display_name": "Python 3",
   "language": "python",
   "name": "python3"
  },
  "language_info": {
   "codemirror_mode": {
    "name": "ipython",
    "version": 3
   },
   "file_extension": ".py",
   "mimetype": "text/x-python",
   "name": "python",
   "nbconvert_exporter": "python",
   "pygments_lexer": "ipython3",
   "version": "3.7.6"
  }
 },
 "nbformat": 4,
 "nbformat_minor": 4
}
