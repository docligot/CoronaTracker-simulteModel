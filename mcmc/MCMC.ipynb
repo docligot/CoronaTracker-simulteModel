{
 "cells": [
  {
   "cell_type": "code",
   "execution_count": 1,
   "metadata": {},
   "outputs": [],
   "source": [
    "import numpy as np\n",
    "import scipy\n",
    "import scipy.stats\n",
    "import seaborn as sb\n",
    "import matplotlib.pyplot as plt\n",
    "from datetime import datetime\n",
    "import pandas as pd\n",
    "import os, re, sys\n",
    "from helper_fun_model import *\n",
    "import warnings\n",
    "warnings.filterwarnings('ignore')\n",
    "%matplotlib inline\n",
    "pd.set_option('display.max_columns',300)\n",
    "pd.set_option('display.max_rows',300)"
   ]
  },
  {
   "cell_type": "markdown",
   "metadata": {},
   "source": [
    "## Data source\n",
    "#### source https://github.com/BlankerL/DXY-COVID-19-Data\n",
    "- Covid infection data of China only\n",
    "- using this source as previous source is not updating and had only counts till Feb 11\n",
    "- git clone https://github.com/BlankerL/DXY-COVID-19-Data.git and manually copy csv folder in to this working directory"
   ]
  },
  {
   "cell_type": "code",
   "execution_count": 2,
   "metadata": {},
   "outputs": [],
   "source": [
    "df_blanker = pd.read_csv(\"./csv/DXYArea.csv\", parse_dates=True)"
   ]
  },
  {
   "cell_type": "code",
   "execution_count": 3,
   "metadata": {
    "scrolled": true
   },
   "outputs": [
    {
     "data": {
      "text/plain": [
       "(44066, 15)"
      ]
     },
     "execution_count": 3,
     "metadata": {},
     "output_type": "execute_result"
    }
   ],
   "source": [
    "df_blanker.shape"
   ]
  },
  {
   "cell_type": "code",
   "execution_count": 4,
   "metadata": {},
   "outputs": [],
   "source": [
    "df_blanker = df_blanker[df_blanker['provinceEnglishName']=='Hubei']"
   ]
  },
  {
   "cell_type": "code",
   "execution_count": 5,
   "metadata": {},
   "outputs": [
    {
     "data": {
      "text/html": [
       "<div>\n",
       "<style scoped>\n",
       "    .dataframe tbody tr th:only-of-type {\n",
       "        vertical-align: middle;\n",
       "    }\n",
       "\n",
       "    .dataframe tbody tr th {\n",
       "        vertical-align: top;\n",
       "    }\n",
       "\n",
       "    .dataframe thead th {\n",
       "        text-align: right;\n",
       "    }\n",
       "</style>\n",
       "<table border=\"1\" class=\"dataframe\">\n",
       "  <thead>\n",
       "    <tr style=\"text-align: right;\">\n",
       "      <th></th>\n",
       "      <th>provinceName</th>\n",
       "      <th>provinceEnglishName</th>\n",
       "      <th>province_zipCode</th>\n",
       "      <th>cityName</th>\n",
       "      <th>cityEnglishName</th>\n",
       "      <th>city_zipCode</th>\n",
       "      <th>province_confirmedCount</th>\n",
       "      <th>province_suspectedCount</th>\n",
       "      <th>province_curedCount</th>\n",
       "      <th>province_deadCount</th>\n",
       "      <th>city_confirmedCount</th>\n",
       "      <th>city_suspectedCount</th>\n",
       "      <th>city_curedCount</th>\n",
       "      <th>city_deadCount</th>\n",
       "      <th>updateTime</th>\n",
       "    </tr>\n",
       "  </thead>\n",
       "  <tbody>\n",
       "    <tr>\n",
       "      <th>43</th>\n",
       "      <td>湖北省</td>\n",
       "      <td>Hubei</td>\n",
       "      <td>420000</td>\n",
       "      <td>武汉</td>\n",
       "      <td>Wuhan</td>\n",
       "      <td>420100.0</td>\n",
       "      <td>59989</td>\n",
       "      <td>0</td>\n",
       "      <td>7887</td>\n",
       "      <td>1789</td>\n",
       "      <td>42752</td>\n",
       "      <td>0</td>\n",
       "      <td>4221</td>\n",
       "      <td>1381</td>\n",
       "      <td>2020-02-18 11:44:23.488</td>\n",
       "    </tr>\n",
       "    <tr>\n",
       "      <th>44</th>\n",
       "      <td>湖北省</td>\n",
       "      <td>Hubei</td>\n",
       "      <td>420000</td>\n",
       "      <td>孝感</td>\n",
       "      <td>Xiaogan</td>\n",
       "      <td>420900.0</td>\n",
       "      <td>59989</td>\n",
       "      <td>0</td>\n",
       "      <td>7887</td>\n",
       "      <td>1789</td>\n",
       "      <td>3320</td>\n",
       "      <td>0</td>\n",
       "      <td>523</td>\n",
       "      <td>75</td>\n",
       "      <td>2020-02-18 11:44:23.488</td>\n",
       "    </tr>\n",
       "    <tr>\n",
       "      <th>45</th>\n",
       "      <td>湖北省</td>\n",
       "      <td>Hubei</td>\n",
       "      <td>420000</td>\n",
       "      <td>黄冈</td>\n",
       "      <td>Huanggang</td>\n",
       "      <td>421100.0</td>\n",
       "      <td>59989</td>\n",
       "      <td>0</td>\n",
       "      <td>7887</td>\n",
       "      <td>1789</td>\n",
       "      <td>2828</td>\n",
       "      <td>0</td>\n",
       "      <td>941</td>\n",
       "      <td>84</td>\n",
       "      <td>2020-02-18 11:44:23.488</td>\n",
       "    </tr>\n",
       "    <tr>\n",
       "      <th>46</th>\n",
       "      <td>湖北省</td>\n",
       "      <td>Hubei</td>\n",
       "      <td>420000</td>\n",
       "      <td>荆州</td>\n",
       "      <td>Jingzhou</td>\n",
       "      <td>421000.0</td>\n",
       "      <td>59989</td>\n",
       "      <td>0</td>\n",
       "      <td>7887</td>\n",
       "      <td>1789</td>\n",
       "      <td>1537</td>\n",
       "      <td>0</td>\n",
       "      <td>339</td>\n",
       "      <td>38</td>\n",
       "      <td>2020-02-18 11:44:23.488</td>\n",
       "    </tr>\n",
       "    <tr>\n",
       "      <th>47</th>\n",
       "      <td>湖北省</td>\n",
       "      <td>Hubei</td>\n",
       "      <td>420000</td>\n",
       "      <td>随州</td>\n",
       "      <td>Suizhou</td>\n",
       "      <td>421300.0</td>\n",
       "      <td>59989</td>\n",
       "      <td>0</td>\n",
       "      <td>7887</td>\n",
       "      <td>1789</td>\n",
       "      <td>1278</td>\n",
       "      <td>0</td>\n",
       "      <td>198</td>\n",
       "      <td>25</td>\n",
       "      <td>2020-02-18 11:44:23.488</td>\n",
       "    </tr>\n",
       "  </tbody>\n",
       "</table>\n",
       "</div>"
      ],
      "text/plain": [
       "   provinceName provinceEnglishName  province_zipCode cityName  \\\n",
       "43          湖北省               Hubei            420000       武汉   \n",
       "44          湖北省               Hubei            420000       孝感   \n",
       "45          湖北省               Hubei            420000       黄冈   \n",
       "46          湖北省               Hubei            420000       荆州   \n",
       "47          湖北省               Hubei            420000       随州   \n",
       "\n",
       "   cityEnglishName  city_zipCode  province_confirmedCount  \\\n",
       "43           Wuhan      420100.0                    59989   \n",
       "44         Xiaogan      420900.0                    59989   \n",
       "45       Huanggang      421100.0                    59989   \n",
       "46        Jingzhou      421000.0                    59989   \n",
       "47         Suizhou      421300.0                    59989   \n",
       "\n",
       "    province_suspectedCount  province_curedCount  province_deadCount  \\\n",
       "43                        0                 7887                1789   \n",
       "44                        0                 7887                1789   \n",
       "45                        0                 7887                1789   \n",
       "46                        0                 7887                1789   \n",
       "47                        0                 7887                1789   \n",
       "\n",
       "    city_confirmedCount  city_suspectedCount  city_curedCount  city_deadCount  \\\n",
       "43                42752                    0             4221            1381   \n",
       "44                 3320                    0              523              75   \n",
       "45                 2828                    0              941              84   \n",
       "46                 1537                    0              339              38   \n",
       "47                 1278                    0              198              25   \n",
       "\n",
       "                 updateTime  \n",
       "43  2020-02-18 11:44:23.488  \n",
       "44  2020-02-18 11:44:23.488  \n",
       "45  2020-02-18 11:44:23.488  \n",
       "46  2020-02-18 11:44:23.488  \n",
       "47  2020-02-18 11:44:23.488  "
      ]
     },
     "execution_count": 5,
     "metadata": {},
     "output_type": "execute_result"
    }
   ],
   "source": [
    "df_blanker.head()"
   ]
  },
  {
   "cell_type": "code",
   "execution_count": 6,
   "metadata": {},
   "outputs": [],
   "source": [
    "df_blanker['date'] = df_blanker['updateTime'].apply(lambda x: datetime.datetime.strptime(x, '%Y-%m-%d %H:%M:%S.%f').date())"
   ]
  },
  {
   "cell_type": "code",
   "execution_count": 7,
   "metadata": {
    "scrolled": false
   },
   "outputs": [],
   "source": [
    "# Each record is city level counts updated at different timings, therefore we need to first \n",
    "# extract each city's max update time\n",
    "df_daily_max_datetime = df_blanker.groupby(['date','cityName']).agg({'updateTime':'max'}).reset_index()"
   ]
  },
  {
   "cell_type": "code",
   "execution_count": 8,
   "metadata": {},
   "outputs": [],
   "source": [
    "# then we do a join with the current data on city and on the MAX updatetime\n",
    "df_daily_max = pd.merge(df_daily_max_datetime, df_blanker, on=['updateTime','date','cityName'], how='inner')"
   ]
  },
  {
   "cell_type": "code",
   "execution_count": 9,
   "metadata": {},
   "outputs": [
    {
     "data": {
      "text/html": [
       "<div>\n",
       "<style scoped>\n",
       "    .dataframe tbody tr th:only-of-type {\n",
       "        vertical-align: middle;\n",
       "    }\n",
       "\n",
       "    .dataframe tbody tr th {\n",
       "        vertical-align: top;\n",
       "    }\n",
       "\n",
       "    .dataframe thead th {\n",
       "        text-align: right;\n",
       "    }\n",
       "</style>\n",
       "<table border=\"1\" class=\"dataframe\">\n",
       "  <thead>\n",
       "    <tr style=\"text-align: right;\">\n",
       "      <th></th>\n",
       "      <th>date</th>\n",
       "      <th>cityName</th>\n",
       "      <th>updateTime</th>\n",
       "      <th>provinceName</th>\n",
       "      <th>provinceEnglishName</th>\n",
       "      <th>province_zipCode</th>\n",
       "      <th>cityEnglishName</th>\n",
       "      <th>city_zipCode</th>\n",
       "      <th>province_confirmedCount</th>\n",
       "      <th>province_suspectedCount</th>\n",
       "      <th>province_curedCount</th>\n",
       "      <th>province_deadCount</th>\n",
       "      <th>city_confirmedCount</th>\n",
       "      <th>city_suspectedCount</th>\n",
       "      <th>city_curedCount</th>\n",
       "      <th>city_deadCount</th>\n",
       "    </tr>\n",
       "  </thead>\n",
       "  <tbody>\n",
       "    <tr>\n",
       "      <th>425</th>\n",
       "      <td>2020-02-18</td>\n",
       "      <td>襄阳</td>\n",
       "      <td>2020-02-18 11:44:23.488</td>\n",
       "      <td>湖北省</td>\n",
       "      <td>Hubei</td>\n",
       "      <td>420000</td>\n",
       "      <td>Xiangyang</td>\n",
       "      <td>420600.0</td>\n",
       "      <td>59989</td>\n",
       "      <td>0</td>\n",
       "      <td>7887</td>\n",
       "      <td>1789</td>\n",
       "      <td>1163</td>\n",
       "      <td>0</td>\n",
       "      <td>182</td>\n",
       "      <td>21</td>\n",
       "    </tr>\n",
       "    <tr>\n",
       "      <th>426</th>\n",
       "      <td>2020-02-18</td>\n",
       "      <td>鄂州</td>\n",
       "      <td>2020-02-18 11:44:23.488</td>\n",
       "      <td>湖北省</td>\n",
       "      <td>Hubei</td>\n",
       "      <td>420000</td>\n",
       "      <td>Ezhou</td>\n",
       "      <td>420700.0</td>\n",
       "      <td>59989</td>\n",
       "      <td>0</td>\n",
       "      <td>7887</td>\n",
       "      <td>1789</td>\n",
       "      <td>1339</td>\n",
       "      <td>0</td>\n",
       "      <td>265</td>\n",
       "      <td>36</td>\n",
       "    </tr>\n",
       "    <tr>\n",
       "      <th>427</th>\n",
       "      <td>2020-02-18</td>\n",
       "      <td>随州</td>\n",
       "      <td>2020-02-18 11:44:23.488</td>\n",
       "      <td>湖北省</td>\n",
       "      <td>Hubei</td>\n",
       "      <td>420000</td>\n",
       "      <td>Suizhou</td>\n",
       "      <td>421300.0</td>\n",
       "      <td>59989</td>\n",
       "      <td>0</td>\n",
       "      <td>7887</td>\n",
       "      <td>1789</td>\n",
       "      <td>1278</td>\n",
       "      <td>0</td>\n",
       "      <td>198</td>\n",
       "      <td>25</td>\n",
       "    </tr>\n",
       "    <tr>\n",
       "      <th>428</th>\n",
       "      <td>2020-02-18</td>\n",
       "      <td>黄冈</td>\n",
       "      <td>2020-02-18 11:44:23.488</td>\n",
       "      <td>湖北省</td>\n",
       "      <td>Hubei</td>\n",
       "      <td>420000</td>\n",
       "      <td>Huanggang</td>\n",
       "      <td>421100.0</td>\n",
       "      <td>59989</td>\n",
       "      <td>0</td>\n",
       "      <td>7887</td>\n",
       "      <td>1789</td>\n",
       "      <td>2828</td>\n",
       "      <td>0</td>\n",
       "      <td>941</td>\n",
       "      <td>84</td>\n",
       "    </tr>\n",
       "    <tr>\n",
       "      <th>429</th>\n",
       "      <td>2020-02-18</td>\n",
       "      <td>黄石</td>\n",
       "      <td>2020-02-18 11:44:23.488</td>\n",
       "      <td>湖北省</td>\n",
       "      <td>Hubei</td>\n",
       "      <td>420000</td>\n",
       "      <td>Huangshi</td>\n",
       "      <td>420200.0</td>\n",
       "      <td>59989</td>\n",
       "      <td>0</td>\n",
       "      <td>7887</td>\n",
       "      <td>1789</td>\n",
       "      <td>985</td>\n",
       "      <td>0</td>\n",
       "      <td>238</td>\n",
       "      <td>20</td>\n",
       "    </tr>\n",
       "  </tbody>\n",
       "</table>\n",
       "</div>"
      ],
      "text/plain": [
       "           date cityName               updateTime provinceName  \\\n",
       "425  2020-02-18       襄阳  2020-02-18 11:44:23.488          湖北省   \n",
       "426  2020-02-18       鄂州  2020-02-18 11:44:23.488          湖北省   \n",
       "427  2020-02-18       随州  2020-02-18 11:44:23.488          湖北省   \n",
       "428  2020-02-18       黄冈  2020-02-18 11:44:23.488          湖北省   \n",
       "429  2020-02-18       黄石  2020-02-18 11:44:23.488          湖北省   \n",
       "\n",
       "    provinceEnglishName  province_zipCode cityEnglishName  city_zipCode  \\\n",
       "425               Hubei            420000       Xiangyang      420600.0   \n",
       "426               Hubei            420000           Ezhou      420700.0   \n",
       "427               Hubei            420000         Suizhou      421300.0   \n",
       "428               Hubei            420000       Huanggang      421100.0   \n",
       "429               Hubei            420000        Huangshi      420200.0   \n",
       "\n",
       "     province_confirmedCount  province_suspectedCount  province_curedCount  \\\n",
       "425                    59989                        0                 7887   \n",
       "426                    59989                        0                 7887   \n",
       "427                    59989                        0                 7887   \n",
       "428                    59989                        0                 7887   \n",
       "429                    59989                        0                 7887   \n",
       "\n",
       "     province_deadCount  city_confirmedCount  city_suspectedCount  \\\n",
       "425                1789                 1163                    0   \n",
       "426                1789                 1339                    0   \n",
       "427                1789                 1278                    0   \n",
       "428                1789                 2828                    0   \n",
       "429                1789                  985                    0   \n",
       "\n",
       "     city_curedCount  city_deadCount  \n",
       "425              182              21  \n",
       "426              265              36  \n",
       "427              198              25  \n",
       "428              941              84  \n",
       "429              238              20  "
      ]
     },
     "execution_count": 9,
     "metadata": {},
     "output_type": "execute_result"
    }
   ],
   "source": [
    "df_daily_max.tail()"
   ]
  },
  {
   "cell_type": "code",
   "execution_count": 26,
   "metadata": {},
   "outputs": [
    {
     "data": {
      "text/plain": [
       "(25, 3)"
      ]
     },
     "execution_count": 26,
     "metadata": {},
     "output_type": "execute_result"
    }
   ],
   "source": [
    "covid_cn.shape"
   ]
  },
  {
   "cell_type": "code",
   "execution_count": 15,
   "metadata": {},
   "outputs": [],
   "source": [
    "covid_cn = df_daily_max.groupby('date').agg({'city_confirmedCount':'sum'}).reset_index()\n",
    "covid_cn = covid_cn.iloc[:len(covid_cn)-1 ,:] ## remove today's data as it will not be complete\n",
    "covid_cn.columns = ['date','infected']"
   ]
  },
  {
   "cell_type": "code",
   "execution_count": 16,
   "metadata": {},
   "outputs": [],
   "source": [
    "covid_cn['new infected'] = covid_cn['infected'].diff().fillna(1)"
   ]
  },
  {
   "cell_type": "code",
   "execution_count": 17,
   "metadata": {},
   "outputs": [
    {
     "data": {
      "image/png": "[encoded data removed]",
      "text/plain": [
       "<Figure size 432x288 with 1 Axes>"
      ]
     },
     "metadata": {
      "needs_background": "light"
     },
     "output_type": "display_data"
    }
   ],
   "source": [
    "plt.hist(covid_cn['infected'], bins = 30)\n",
    "plt.show()"
   ]
  },
  {
   "cell_type": "code",
   "execution_count": 18,
   "metadata": {},
   "outputs": [
    {
     "data": {
      "image/png": "[encoded data removed]",
      "text/plain": [
       "<Figure size 432x288 with 1 Axes>"
      ]
     },
     "metadata": {
      "needs_background": "light"
     },
     "output_type": "display_data"
    }
   ],
   "source": [
    "sb.distplot(covid_cn['new infected'], bins=50, kde=False, rug=True);"
   ]
  },
  {
   "cell_type": "code",
   "execution_count": 19,
   "metadata": {},
   "outputs": [
    {
     "data": {
      "image/png": "[encoded data removed]",
      "text/plain": [
       "<Figure size 432x288 with 1 Axes>"
      ]
     },
     "metadata": {
      "needs_background": "light"
     },
     "output_type": "display_data"
    }
   ],
   "source": [
    "count, gbins, ignored = plt.hist(covid_cn['new infected'], bins=50)"
   ]
  },
  {
   "cell_type": "code",
   "execution_count": 46,
   "metadata": {},
   "outputs": [
    {
     "data": {
      "image/png": "[encoded data removed]",
      "text/plain": [
       "<Figure size 432x288 with 1 Axes>"
      ]
     },
     "metadata": {
      "needs_background": "light"
     },
     "output_type": "display_data"
    }
   ],
   "source": [
    "count, gbins, ignored = plt.hist(covid_cn[covid_cn['new infected']<14000]['new infected'], bins=50)"
   ]
  },
  {
   "cell_type": "code",
   "execution_count": 20,
   "metadata": {},
   "outputs": [
    {
     "data": {
      "image/png": "[encoded data removed]",
      "text/plain": [
       "<Figure size 432x288 with 1 Axes>"
      ]
     },
     "metadata": {
      "needs_background": "light"
     },
     "output_type": "display_data"
    }
   ],
   "source": [
    "shape, scale = 4.3, 530 # mean=4, std=2*sqrt(2)\n",
    "import scipy.special as sps\n",
    "\n",
    "# gcount, gbins, gignored = plt.hist(data, 200, density=True)\n",
    "# y = gbins**(shape-1)*(np.exp(-gbins/scale) /(sps.gamma(shape)*scale**shape))\n",
    "# plt.plot(gbins, y, linewidth=2, color='r')\n",
    "# plt.show()\n",
    "\n",
    "# count, gbins, ignored = plt.hist(covid_cn['new infected'], bins=50)\n",
    "y = gbins**(shape-1)*(np.exp(-gbins/scale) /(sps.gamma(shape)*scale**shape))\n",
    "plt.plot(gbins, y, linewidth=2, color='r')\n",
    "sb.kdeplot(covid_cn['new infected'], shade=True).set(xlim=(0))\n",
    "\n",
    "plt.show()"
   ]
  },
  {
   "cell_type": "markdown",
   "metadata": {},
   "source": [
    "# MCMC"
   ]
  },
  {
   "cell_type": "code",
   "execution_count": 21,
   "metadata": {},
   "outputs": [],
   "source": [
    "mu = covid_cn['new infected'].mean()\n",
    "sigma = covid_cn['new infected'].std()"
   ]
  },
  {
   "cell_type": "code",
   "execution_count": 22,
   "metadata": {},
   "outputs": [
    {
     "data": {
      "text/plain": [
       "(2305.36, 2786.0695564420735)"
      ]
     },
     "execution_count": 22,
     "metadata": {},
     "output_type": "execute_result"
    }
   ],
   "source": [
    "mu, sigma"
   ]
  },
  {
   "cell_type": "code",
   "execution_count": 97,
   "metadata": {},
   "outputs": [
    {
     "name": "stdout",
     "output_type": "stream",
     "text": [
      "Efficiency = 0.99181\n"
     ]
    }
   ],
   "source": [
    "# adapted from https://people.duke.edu/~ccc14/sta-663/MCMC.html\n",
    "from scipy.stats import gamma, norm\n",
    "import copy\n",
    "\n",
    "def target(theta):\n",
    "    return gamma.pdf(theta, a=4.3, scale=530)\n",
    "\n",
    "def transition(theta1, theta2):\n",
    "    return norm.pdf(abs(theta1-theta2))\n",
    "\n",
    "\n",
    "theta = mu\n",
    "niters = 100000\n",
    "samples = []\n",
    "samples.append((0,theta))\n",
    "for i in range(1, niters):\n",
    "    theta_p = theta + np.random.normal(0, 50) # using sigma > 1 because sigma = 1 gives efficiency of 70+%, we can give up some efficiency for better samples\n",
    "    if theta_p < 0:\n",
    "        theta_p = 0\n",
    "    T_next = target(theta_p)*transition(theta, theta_p) # π(x_cand)q(x(i−1)|x_cand)\n",
    "    T_prev = target(theta)*transition(theta_p, theta) #   π(x(i−1))q(x_cand|x(i−1))\n",
    "    \n",
    "    a = min(1, max(T_next/T_prev,0))\n",
    "    u = np.random.uniform()\n",
    "    if u < a:\n",
    "        theta = copy.copy(theta_p)\n",
    "        samples.append((i,theta))\n",
    "print(\"Efficiency = %s\" %(len(samples)/niters))"
   ]
  },
  {
   "cell_type": "code",
   "execution_count": 98,
   "metadata": {},
   "outputs": [
    {
     "name": "stdout",
     "output_type": "stream",
     "text": [
      "Mean of samples: 3886.8953941503355\n",
      "Stddev of samples: 2960.5176242863377\n"
     ]
    }
   ],
   "source": [
    "val = np.sum([s[1] for s in samples])\n",
    "print(\"Mean of samples: %s\" %(val/len(samples)))\n",
    "print(\"Stddev of samples: %s\" %(np.std([s[1] for s in samples])))"
   ]
  },
  {
   "cell_type": "code",
   "execution_count": 99,
   "metadata": {},
   "outputs": [
    {
     "data": {
      "image/png": "[encoded data removed]",
      "text/plain": [
       "<Figure size 432x288 with 1 Axes>"
      ]
     },
     "metadata": {
      "needs_background": "light"
     },
     "output_type": "display_data"
    }
   ],
   "source": [
    "plt.hist([s[1] for s in samples], bins=50)\n",
    "plt.show()"
   ]
  },
  {
   "cell_type": "code",
   "execution_count": 100,
   "metadata": {},
   "outputs": [
    {
     "data": {
      "text/plain": [
       "[<matplotlib.lines.Line2D at 0x1e99bcd34a8>]"
      ]
     },
     "execution_count": 100,
     "metadata": {},
     "output_type": "execute_result"
    },
    {
     "data": {
      "image/png": "[encoded data removed]",
      "text/plain": [
       "<Figure size 432x288 with 1 Axes>"
      ]
     },
     "metadata": {
      "needs_background": "light"
     },
     "output_type": "display_data"
    }
   ],
   "source": [
    "plt.plot([y for x,y in samples])"
   ]
  },
  {
   "cell_type": "code",
   "execution_count": null,
   "metadata": {},
   "outputs": [],
   "source": []
  },
  {
   "cell_type": "markdown",
   "metadata": {},
   "source": [
    "## References"
   ]
  },
  {
   "cell_type": "code",
   "execution_count": null,
   "metadata": {
    "scrolled": true
   },
   "outputs": [],
   "source": [
    "import copy\n",
    "\n",
    "prev_draw = np.random.normal(mu,sigma) #Initialize x(0) ∼ q(x)\n",
    "sample = []\n",
    "steps = 1000\n",
    "\n",
    "for i in range(1, steps):\n",
    "    if i == 0:\n",
    "        prev_draw = copy.copy(mu)\n",
    "    else:\n",
    "        current = np.random.normal(mu,sigma)\n",
    "        candidate = transition_model(current, prev_draw) #Propose: x_cand ∼ q(x(i)|x(i−1))\n",
    "        print(\"%s, current: %s candidate: %s\" %(i,current,candidate))\n",
    "        T_next = target_model(candidate) # π(x_cand)q(x(i−1)|x_cand)\n",
    "        T_prev = target_model(current) #   π(x(i−1))q(x_cand|x(i−1))\n",
    "        a = min(1, max(T_next / T_prev,0)) # Acceptance Probability\n",
    "\n",
    "        if a > np.random.uniform(0, 1): # u ∼ Uniform (u; 0, 1)\n",
    "            # Update state\n",
    "            print(\"accepted, current: %s candidate: %s\" %(current,candidate))\n",
    "            current = copy.copy(candidate) # Accept the proposal: x(i) ← x_cand\n",
    "            sample.append(current)\n",
    "print('Accept ratio:', float(len(sample)) / steps)"
   ]
  },
  {
   "cell_type": "code",
   "execution_count": null,
   "metadata": {},
   "outputs": [],
   "source": [
    "# P(x) : Target distribution\n",
    "def P(x1, x2, b):\n",
    "    return np.exp(-0.5 * (x1**2 - 2*b*x1*x2 + x2**2))\n",
    "\n",
    "\n",
    "# Q(x) : Proposal distribution\n",
    "def Q(c, mu1, mu2, sigma):\n",
    "    return (c[0] * np.random.normal(mu1, sigma), c[1] * np.random.normal(mu2, sigma))\n",
    "\n",
    "def metropolisHastings(mu, sigma):\n",
    "    current = (10, 10)\n",
    "    sample = []\n",
    "    sample.append(current)\n",
    "    accept_ratio = []\n",
    "\n",
    "    for i in range(N):\n",
    "        candidate = Q(current, mu1, mu2, sigma)\n",
    "\n",
    "        T_prev = P(current[0], current[1], b)\n",
    "        T_next = P(candidate[0], candidate[1], b)\n",
    "        a = T_next / T_prev\n",
    "\n",
    "        if a > 1 or a > np.random.uniform(0, 1):\n",
    "            # Update state\n",
    "            current = copy.copy(candidate)\n",
    "            sample.append(current)\n",
    "            accept_ratio.append(i)\n",
    "\n",
    "    print('Accept ratio:', float(len(accept_ratio)) / N)\n",
    "    return np.array(sample)"
   ]
  }
 ],
 "metadata": {
  "kernelspec": {
   "display_name": "Python 3",
   "language": "python",
   "name": "python3"
  },
  "language_info": {
   "codemirror_mode": {
    "name": "ipython",
    "version": 3
   },
   "file_extension": ".py",
   "mimetype": "text/x-python",
   "name": "python",
   "nbconvert_exporter": "python",
   "pygments_lexer": "ipython3",
   "version": "3.7.3"
  }
 },
 "nbformat": 4,
 "nbformat_minor": 4
}
