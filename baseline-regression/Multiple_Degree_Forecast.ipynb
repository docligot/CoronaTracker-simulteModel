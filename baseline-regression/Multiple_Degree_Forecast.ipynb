{
 "cells": [
  {
   "cell_type": "markdown",
   "metadata": {},
   "source": [
    "# Test Multiple Polynomial Degree Forecast\n",
    "\n",
    "## Data Source\n",
    "\n",
    "- Using Hubei province from JHU Data\n",
    "\n",
    "\n",
    "## Summary\n",
    "\n",
    "- 2-order and 3-order polynomial for growing trends\n",
    "- 4-order and 5-order polynomial for inflecting trends\n",
    "\n"
   ]
  },
  {
   "cell_type": "code",
   "execution_count": 241,
   "metadata": {},
   "outputs": [],
   "source": [
    "import pandas as pd\n",
    "import matplotlib.pyplot as plt\n",
    "import numpy as np \n",
    "from sklearn.linear_model import LinearRegression \n",
    "from sklearn.preprocessing import PolynomialFeatures \n",
    "lin = LinearRegression() \n",
    "poly2 = PolynomialFeatures(degree = 2)\n",
    "poly3 = PolynomialFeatures(degree = 3)\n",
    "poly4 = PolynomialFeatures(degree = 4)\n",
    "poly5 = PolynomialFeatures(degree = 5)\n",
    "from sklearn.metrics import mean_squared_error as mse\n",
    "from sklearn.metrics import r2_score as rsq\n",
    "from math import sqrt"
   ]
  },
  {
   "cell_type": "code",
   "execution_count": 70,
   "metadata": {},
   "outputs": [],
   "source": [
    "hubei = pd.read_csv(\"../data/hubei.txt\", sep='\\t')"
   ]
  },
  {
   "cell_type": "code",
   "execution_count": 90,
   "metadata": {},
   "outputs": [],
   "source": [
    "df = hubei.groupby(['days']).max()\n",
    "x = df.index.values.reshape(-1, 1)\n",
    "y = df['hubei'].values.reshape(-1, 1)"
   ]
  },
  {
   "cell_type": "code",
   "execution_count": 45,
   "metadata": {},
   "outputs": [
    {
     "data": {
      "text/html": [
       "<div>\n",
       "<style scoped>\n",
       "    .dataframe tbody tr th:only-of-type {\n",
       "        vertical-align: middle;\n",
       "    }\n",
       "\n",
       "    .dataframe tbody tr th {\n",
       "        vertical-align: top;\n",
       "    }\n",
       "\n",
       "    .dataframe thead th {\n",
       "        text-align: right;\n",
       "    }\n",
       "</style>\n",
       "<table border=\"1\" class=\"dataframe\">\n",
       "  <thead>\n",
       "    <tr style=\"text-align: right;\">\n",
       "      <th></th>\n",
       "      <th>date</th>\n",
       "      <th>hubei</th>\n",
       "    </tr>\n",
       "    <tr>\n",
       "      <th>days</th>\n",
       "      <th></th>\n",
       "      <th></th>\n",
       "    </tr>\n",
       "  </thead>\n",
       "  <tbody>\n",
       "    <tr>\n",
       "      <th>0</th>\n",
       "      <td>1/21/2020</td>\n",
       "      <td>270</td>\n",
       "    </tr>\n",
       "    <tr>\n",
       "      <th>1</th>\n",
       "      <td>1/22/2020</td>\n",
       "      <td>444</td>\n",
       "    </tr>\n",
       "    <tr>\n",
       "      <th>2</th>\n",
       "      <td>1/23/2020</td>\n",
       "      <td>444</td>\n",
       "    </tr>\n",
       "    <tr>\n",
       "      <th>3</th>\n",
       "      <td>1/24/2020</td>\n",
       "      <td>549</td>\n",
       "    </tr>\n",
       "    <tr>\n",
       "      <th>4</th>\n",
       "      <td>1/25/2020</td>\n",
       "      <td>1052</td>\n",
       "    </tr>\n",
       "    <tr>\n",
       "      <th>5</th>\n",
       "      <td>1/26/2020</td>\n",
       "      <td>1423</td>\n",
       "    </tr>\n",
       "    <tr>\n",
       "      <th>6</th>\n",
       "      <td>1/27/2020</td>\n",
       "      <td>2714</td>\n",
       "    </tr>\n",
       "    <tr>\n",
       "      <th>7</th>\n",
       "      <td>1/28/2020</td>\n",
       "      <td>3554</td>\n",
       "    </tr>\n",
       "    <tr>\n",
       "      <th>8</th>\n",
       "      <td>1/29/2020</td>\n",
       "      <td>4586</td>\n",
       "    </tr>\n",
       "    <tr>\n",
       "      <th>9</th>\n",
       "      <td>1/30/2020</td>\n",
       "      <td>4903</td>\n",
       "    </tr>\n",
       "    <tr>\n",
       "      <th>10</th>\n",
       "      <td>1/31/2020</td>\n",
       "      <td>5806</td>\n",
       "    </tr>\n",
       "    <tr>\n",
       "      <th>11</th>\n",
       "      <td>2/1/2020</td>\n",
       "      <td>7153</td>\n",
       "    </tr>\n",
       "    <tr>\n",
       "      <th>12</th>\n",
       "      <td>2/2/2020</td>\n",
       "      <td>11177</td>\n",
       "    </tr>\n",
       "    <tr>\n",
       "      <th>13</th>\n",
       "      <td>2/3/2020</td>\n",
       "      <td>13522</td>\n",
       "    </tr>\n",
       "    <tr>\n",
       "      <th>14</th>\n",
       "      <td>2/4/2020</td>\n",
       "      <td>16678</td>\n",
       "    </tr>\n",
       "    <tr>\n",
       "      <th>15</th>\n",
       "      <td>2/5/2020</td>\n",
       "      <td>19665</td>\n",
       "    </tr>\n",
       "    <tr>\n",
       "      <th>16</th>\n",
       "      <td>2/6/2020</td>\n",
       "      <td>19665</td>\n",
       "    </tr>\n",
       "    <tr>\n",
       "      <th>17</th>\n",
       "      <td>2/7/2020</td>\n",
       "      <td>24953</td>\n",
       "    </tr>\n",
       "    <tr>\n",
       "      <th>18</th>\n",
       "      <td>2/8/2020</td>\n",
       "      <td>27100</td>\n",
       "    </tr>\n",
       "    <tr>\n",
       "      <th>19</th>\n",
       "      <td>2/9/2020</td>\n",
       "      <td>29631</td>\n",
       "    </tr>\n",
       "  </tbody>\n",
       "</table>\n",
       "</div>"
      ],
      "text/plain": [
       "           date  hubei\n",
       "days                  \n",
       "0     1/21/2020    270\n",
       "1     1/22/2020    444\n",
       "2     1/23/2020    444\n",
       "3     1/24/2020    549\n",
       "4     1/25/2020   1052\n",
       "5     1/26/2020   1423\n",
       "6     1/27/2020   2714\n",
       "7     1/28/2020   3554\n",
       "8     1/29/2020   4586\n",
       "9     1/30/2020   4903\n",
       "10    1/31/2020   5806\n",
       "11     2/1/2020   7153\n",
       "12     2/2/2020  11177\n",
       "13     2/3/2020  13522\n",
       "14     2/4/2020  16678\n",
       "15     2/5/2020  19665\n",
       "16     2/6/2020  19665\n",
       "17     2/7/2020  24953\n",
       "18     2/8/2020  27100\n",
       "19     2/9/2020  29631"
      ]
     },
     "execution_count": 45,
     "metadata": {},
     "output_type": "execute_result"
    }
   ],
   "source": [
    "df"
   ]
  },
  {
   "cell_type": "code",
   "execution_count": 91,
   "metadata": {},
   "outputs": [
    {
     "data": {
      "text/plain": [
       "Text(0.5,0,'Days')"
      ]
     },
     "execution_count": 91,
     "metadata": {},
     "output_type": "execute_result"
    },
    {
     "data": {
      "image/png": "[encoded data removed]",
      "text/plain": [
       "<Figure size 432x288 with 1 Axes>"
      ]
     },
     "metadata": {},
     "output_type": "display_data"
    }
   ],
   "source": [
    "plt.plot(x, y, '-o')\n",
    "plt.ylabel(\"Confirmed\")\n",
    "plt.xlabel(\"Days\")"
   ]
  },
  {
   "cell_type": "code",
   "execution_count": 92,
   "metadata": {},
   "outputs": [
    {
     "data": {
      "text/plain": [
       "LinearRegression(copy_X=True, fit_intercept=True, n_jobs=1, normalize=False)"
      ]
     },
     "execution_count": 92,
     "metadata": {},
     "output_type": "execute_result"
    }
   ],
   "source": [
    "lin.fit(x, y)"
   ]
  },
  {
   "cell_type": "code",
   "execution_count": 99,
   "metadata": {},
   "outputs": [
    {
     "data": {
      "text/plain": [
       "Text(0.5,0,'Days')"
      ]
     },
     "execution_count": 99,
     "metadata": {},
     "output_type": "execute_result"
    },
    {
     "data": {
      "image/png": "[encoded data removed]",
      "text/plain": [
       "<Figure size 432x288 with 1 Axes>"
      ]
     },
     "metadata": {},
     "output_type": "display_data"
    }
   ],
   "source": [
    "plt.scatter(x, y)\n",
    "plt.plot(x, lin.predict(x), '-')\n",
    "plt.ylabel(\"Confirmed\")\n",
    "plt.xlabel(\"Days\")"
   ]
  },
  {
   "cell_type": "code",
   "execution_count": 103,
   "metadata": {},
   "outputs": [
    {
     "data": {
      "text/plain": [
       "LinearRegression(copy_X=True, fit_intercept=True, n_jobs=1, normalize=False)"
      ]
     },
     "execution_count": 103,
     "metadata": {},
     "output_type": "execute_result"
    }
   ],
   "source": [
    "x_poly2 = poly2.fit_transform(x)\n",
    "poly2.fit(x, y)\n",
    "lin2 = LinearRegression() \n",
    "lin2.fit(x_poly2, y)"
   ]
  },
  {
   "cell_type": "code",
   "execution_count": 107,
   "metadata": {},
   "outputs": [
    {
     "data": {
      "text/plain": [
       "LinearRegression(copy_X=True, fit_intercept=True, n_jobs=1, normalize=False)"
      ]
     },
     "execution_count": 107,
     "metadata": {},
     "output_type": "execute_result"
    }
   ],
   "source": [
    "x_poly3 = poly3.fit_transform(x)\n",
    "poly3.fit(x, y)\n",
    "lin3 = LinearRegression() \n",
    "lin3.fit(x_poly3, y)"
   ]
  },
  {
   "cell_type": "code",
   "execution_count": 109,
   "metadata": {},
   "outputs": [
    {
     "data": {
      "text/plain": [
       "LinearRegression(copy_X=True, fit_intercept=True, n_jobs=1, normalize=False)"
      ]
     },
     "execution_count": 109,
     "metadata": {},
     "output_type": "execute_result"
    }
   ],
   "source": [
    "x_poly4 = poly4.fit_transform(x)\n",
    "poly4.fit(x, y)\n",
    "lin4 = LinearRegression() \n",
    "lin4.fit(x_poly4, y)"
   ]
  },
  {
   "cell_type": "code",
   "execution_count": 200,
   "metadata": {},
   "outputs": [
    {
     "data": {
      "text/plain": [
       "LinearRegression(copy_X=True, fit_intercept=True, n_jobs=1, normalize=False)"
      ]
     },
     "execution_count": 200,
     "metadata": {},
     "output_type": "execute_result"
    }
   ],
   "source": [
    "x_poly5 = poly5.fit_transform(x)\n",
    "poly5.fit(x, y)\n",
    "lin5 = LinearRegression() \n",
    "lin5.fit(x_poly5, y)"
   ]
  },
  {
   "cell_type": "code",
   "execution_count": 212,
   "metadata": {},
   "outputs": [],
   "source": [
    "x2 = []\n",
    "for i in range(0, 26):\n",
    "    x2.append(i)"
   ]
  },
  {
   "cell_type": "code",
   "execution_count": 213,
   "metadata": {},
   "outputs": [],
   "source": [
    "x2 = np.asarray(x2).reshape(-1,1)"
   ]
  },
  {
   "cell_type": "code",
   "execution_count": 220,
   "metadata": {},
   "outputs": [
    {
     "data": {
      "text/plain": [
       "Text(0.5,1,'Hubei Cases and Forecasts')"
      ]
     },
     "execution_count": 220,
     "metadata": {},
     "output_type": "execute_result"
    },
    {
     "data": {
      "image/png": "[encoded data removed]",
      "text/plain": [
       "<Figure size 432x288 with 1 Axes>"
      ]
     },
     "metadata": {},
     "output_type": "display_data"
    }
   ],
   "source": [
    "plt.scatter(x, y)\n",
    "plt.plot(x2, lin2.predict(poly2.fit_transform(x2)), '--', color = 'red')\n",
    "plt.plot(x2, lin3.predict(poly3.fit_transform(x2)), '--', color = 'green')\n",
    "plt.plot(x2, lin4.predict(poly4.fit_transform(x2)), '--', color = 'gray')\n",
    "plt.plot(x2, lin5.predict(poly5.fit_transform(x2)), '--', color = 'blue')\n",
    "plt.ylabel(\"Confirmed\")\n",
    "plt.xlabel(\"Days\")\n",
    "plt.legend(('2-degree', '3-degree', '4-degree','5-degree'))\n",
    "plt.title('Hubei Cases and Forecasts')"
   ]
  },
  {
   "cell_type": "code",
   "execution_count": 243,
   "metadata": {},
   "outputs": [],
   "source": [
    "rms2 = sqrt(mse(y, lin2.predict(poly2.fit_transform(x))))\n",
    "rms3 = sqrt(mse(y, lin3.predict(poly3.fit_transform(x))))\n",
    "rms4 = sqrt(mse(y, lin4.predict(poly4.fit_transform(x))))\n",
    "rms5 = sqrt(mse(y, lin5.predict(poly5.fit_transform(x))))\n",
    "rsq2 = rsq(y, lin2.predict(poly2.fit_transform(x)))\n",
    "rsq3 = rsq(y, lin3.predict(poly3.fit_transform(x)))\n",
    "rsq4 = rsq(y, lin4.predict(poly4.fit_transform(x)))\n",
    "rsq5 = rsq(y, lin5.predict(poly5.fit_transform(x)))\n"
   ]
  },
  {
   "cell_type": "code",
   "execution_count": 246,
   "metadata": {},
   "outputs": [
    {
     "name": "stdout",
     "output_type": "stream",
     "text": [
      "2-degree: MSE: 836.9511433555766 R2: 0.9923916379157349\n",
      "3-degree: MSE: 834.9952023092771 R2: 0.9924271575966492\n",
      "4-degree: MSE: 728.9235055578682 R2: 0.9942289495764142\n",
      "5-degree: MSE: 714.9812798439239 R2: 0.9944476056895452\n"
     ]
    }
   ],
   "source": [
    "print('2-degree: MSE: ' + str(rms2) + ' R2: ' + str(rsq2))\n",
    "print('3-degree: MSE: ' + str(rms3) + ' R2: ' + str(rsq3))\n",
    "print('4-degree: MSE: ' + str(rms4) + ' R2: ' + str(rsq4))\n",
    "print('5-degree: MSE: ' + str(rms5) + ' R2: ' + str(rsq5))"
   ]
  },
  {
   "cell_type": "code",
   "execution_count": null,
   "metadata": {},
   "outputs": [],
   "source": []
  }
 ],
 "metadata": {
  "kernelspec": {
   "display_name": "Python 3",
   "language": "python",
   "name": "python3"
  },
  "language_info": {
   "codemirror_mode": {
    "name": "ipython",
    "version": 3
   },
   "file_extension": ".py",
   "mimetype": "text/x-python",
   "name": "python",
   "nbconvert_exporter": "python",
   "pygments_lexer": "ipython3",
   "version": "3.6.4"
  }
 },
 "nbformat": 4,
 "nbformat_minor": 2
}
