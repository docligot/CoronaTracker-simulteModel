{
 "cells": [
  {
   "cell_type": "markdown",
   "metadata": {},
   "source": [
    "# GAM\n",
    "\n",
    "#### Author: leebond\n",
    "\n",
    "#### Date: Feb 2020\n",
    "\n",
    "\n",
    "## Contents:\n",
    "apply gam model and demonstrate the fit for\n",
    "- Case 1 (overall)\n",
    "- Case 2 (Hubei only)\n",
    "- Case 3 (ex-Hubei)\n",
    "   \n",
    "## Summary\n"
   ]
  },
  {
   "cell_type": "code",
   "execution_count": 1,
   "metadata": {},
   "outputs": [],
   "source": [
    "import pandas as pd\n",
    "import numpy as np\n",
    "import operator\n",
    "import matplotlib.pyplot as plt\n",
    "import pandas as pd\n",
    "import pandas\n",
    "import datetime\n",
    "import matplotlib.dates as mdates\n",
    "from helper_fun_model import *\n",
    "from sklearn.linear_model import LinearRegression\n",
    "from sklearn.metrics import mean_squared_error, r2_score\n",
    "from sklearn.preprocessing import PolynomialFeatures\n",
    "import warnings\n",
    "warnings.filterwarnings('ignore')"
   ]
  },
  {
   "cell_type": "code",
   "execution_count": 2,
   "metadata": {},
   "outputs": [
    {
     "name": "stdout",
     "output_type": "stream",
     "text": [
      "Latest Update Time:  2020-02-09 13:33:40.433000\n",
      "Data Range:  2020-01-24 to 2020-02-09\n",
      "Data Size:  27138\n",
      "梅河口cannot be translated, ask Yiran to mannully Translate\n",
      "\n",
      "Save area daily dataset (English) into ../data/DXYArea.csv\n",
      "CPU times: user 116 ms, sys: 39.3 ms, total: 155 ms\n",
      "Wall time: 9.17 s\n"
     ]
    }
   ],
   "source": [
    "%%time\n",
    "## Update data from DXY\n",
    "! cd ../data_processing && python DXY_AreaData_query.py"
   ]
  },
  {
   "cell_type": "code",
   "execution_count": 3,
   "metadata": {},
   "outputs": [
    {
     "data": {
      "text/html": [
       "<div>\n",
       "<style scoped>\n",
       "    .dataframe tbody tr th:only-of-type {\n",
       "        vertical-align: middle;\n",
       "    }\n",
       "\n",
       "    .dataframe tbody tr th {\n",
       "        vertical-align: top;\n",
       "    }\n",
       "\n",
       "    .dataframe thead th {\n",
       "        text-align: right;\n",
       "    }\n",
       "</style>\n",
       "<table border=\"1\" class=\"dataframe\">\n",
       "  <thead>\n",
       "    <tr style=\"text-align: right;\">\n",
       "      <th></th>\n",
       "      <th>provinceName</th>\n",
       "      <th>cityName</th>\n",
       "      <th>confirmed</th>\n",
       "      <th>cured</th>\n",
       "      <th>dead</th>\n",
       "      <th>updateTime</th>\n",
       "      <th>updateDate</th>\n",
       "      <th>Days</th>\n",
       "    </tr>\n",
       "  </thead>\n",
       "  <tbody>\n",
       "    <tr>\n",
       "      <th>6069</th>\n",
       "      <td>Heilongjiang Province</td>\n",
       "      <td>Hegang</td>\n",
       "      <td>4</td>\n",
       "      <td>0</td>\n",
       "      <td>0</td>\n",
       "      <td>2020-02-09 08:55:45.123</td>\n",
       "      <td>2020-02-09</td>\n",
       "      <td>63</td>\n",
       "    </tr>\n",
       "    <tr>\n",
       "      <th>6070</th>\n",
       "      <td>Heilongjiang Province</td>\n",
       "      <td>Heihe</td>\n",
       "      <td>2</td>\n",
       "      <td>0</td>\n",
       "      <td>0</td>\n",
       "      <td>2020-02-09 08:55:45.123</td>\n",
       "      <td>2020-02-09</td>\n",
       "      <td>63</td>\n",
       "    </tr>\n",
       "    <tr>\n",
       "      <th>6071</th>\n",
       "      <td>Heilongjiang Province</td>\n",
       "      <td>Qiqihar</td>\n",
       "      <td>27</td>\n",
       "      <td>0</td>\n",
       "      <td>0</td>\n",
       "      <td>2020-02-09 08:55:45.123</td>\n",
       "      <td>2020-02-09</td>\n",
       "      <td>63</td>\n",
       "    </tr>\n",
       "  </tbody>\n",
       "</table>\n",
       "</div>"
      ],
      "text/plain": [
       "               provinceName cityName  confirmed  cured  dead  \\\n",
       "6069  Heilongjiang Province   Hegang          4      0     0   \n",
       "6070  Heilongjiang Province    Heihe          2      0     0   \n",
       "6071  Heilongjiang Province  Qiqihar         27      0     0   \n",
       "\n",
       "                   updateTime updateDate  Days  \n",
       "6069  2020-02-09 08:55:45.123 2020-02-09    63  \n",
       "6070  2020-02-09 08:55:45.123 2020-02-09    63  \n",
       "6071  2020-02-09 08:55:45.123 2020-02-09    63  "
      ]
     },
     "execution_count": 3,
     "metadata": {},
     "output_type": "execute_result"
    }
   ],
   "source": [
    "## Load data \n",
    "DXYArea = pd.read_csv(\"../data/DXYArea.csv\")\n",
    "DXYArea = add_days(DXYArea) # add the number of days after 2019-12-08\n",
    "DXYArea.tail(3) # check new"
   ]
  },
  {
   "cell_type": "markdown",
   "metadata": {},
   "source": [
    "### Case1: Overall "
   ]
  },
  {
   "cell_type": "code",
   "execution_count": 4,
   "metadata": {},
   "outputs": [],
   "source": [
    "\"\"\"\n",
    "Sum up all province  \n",
    "\"\"\"\n",
    "# China total\n",
    "overall_df = pd.DataFrame(DXYArea.groupby(['updateDate']).agg({'confirmed': \"sum\",\n",
    "                                                                'cured': \"sum\",\n",
    "                                                                'dead': 'sum',\n",
    "                                                                'Days': 'mean'})).reset_index()\n"
   ]
  },
  {
   "cell_type": "markdown",
   "metadata": {},
   "source": [
    "#### Feature Engineering"
   ]
  },
  {
   "cell_type": "code",
   "execution_count": 5,
   "metadata": {},
   "outputs": [
    {
     "data": {
      "text/plain": [
       "0         NaN\n",
       "1       876.0\n",
       "2      1354.0\n",
       "3      2020.0\n",
       "4      2852.0\n",
       "5      4668.0\n",
       "6      6075.0\n",
       "7      7781.0\n",
       "8     10071.0\n",
       "9     12028.0\n",
       "10    14456.0\n",
       "11    17523.0\n",
       "12    20497.0\n",
       "13    24357.0\n",
       "14    28094.0\n",
       "15    31201.0\n",
       "16    34600.0\n",
       "Name: confirmed, dtype: float64"
      ]
     },
     "execution_count": 5,
     "metadata": {},
     "output_type": "execute_result"
    }
   ],
   "source": [
    "overall_df['confirmed'].shift()"
   ]
  },
  {
   "cell_type": "code",
   "execution_count": 6,
   "metadata": {},
   "outputs": [],
   "source": [
    "overall_df['confirmed_lag1'] = overall_df['confirmed'].shift()"
   ]
  },
  {
   "cell_type": "code",
   "execution_count": 19,
   "metadata": {},
   "outputs": [],
   "source": [
    "overall_df['confirmed_lag1'].fillna(0, inplace = True)"
   ]
  },
  {
   "cell_type": "code",
   "execution_count": 20,
   "metadata": {},
   "outputs": [
    {
     "name": "stdout",
     "output_type": "stream",
     "text": [
      "Train dataset: data before 2020-02-04 00:00:00 \n",
      "Test dataset: the last 5 days\n"
     ]
    }
   ],
   "source": [
    "Train, Test = split_train_test_by_date(overall_df, 5)\n",
    "\n",
    "X_train = Train[['Days', 'confirmed_lag1']]\n",
    "y_train = Train['confirmed']\n",
    "X_test =  Test[['Days', 'confirmed_lag1']]\n",
    "y_test = Test['confirmed']"
   ]
  },
  {
   "cell_type": "code",
   "execution_count": 21,
   "metadata": {},
   "outputs": [],
   "source": [
    "from pygam import PoissonGAM, s, te, l"
   ]
  },
  {
   "cell_type": "code",
   "execution_count": 22,
   "metadata": {},
   "outputs": [],
   "source": [
    "gam = PoissonGAM(s(0, n_splines=5) + l(1) ).fit(X_train, y_train)"
   ]
  },
  {
   "cell_type": "code",
   "execution_count": 23,
   "metadata": {},
   "outputs": [
    {
     "name": "stdout",
     "output_type": "stream",
     "text": [
      "PoissonGAM                                                                                                \n",
      "=============================================== ==========================================================\n",
      "Distribution:                       PoissonDist Effective DoF:                                      5.8105\n",
      "Link Function:                          LogLink Log Likelihood:                                   -70.6307\n",
      "Number of Samples:                           11 AIC:                                              152.8825\n",
      "                                                AICc:                                             186.2385\n",
      "                                                UBRE:                                               5.9708\n",
      "                                                Scale:                                                 1.0\n",
      "                                                Pseudo R-Squared:                                   0.9994\n",
      "==========================================================================================================\n",
      "Feature Function                  Lambda               Rank         EDoF         P > x        Sig. Code   \n",
      "================================= ==================== ============ ============ ============ ============\n",
      "s(0)                              [0.6]                5            4.8          0.00e+00     ***         \n",
      "l(1)                              [0.6]                1            1.0          1.15e-02     *           \n",
      "intercept                                              1            0.0          0.00e+00     ***         \n",
      "==========================================================================================================\n",
      "Significance codes:  0 '***' 0.001 '**' 0.01 '*' 0.05 '.' 0.1 ' ' 1\n",
      "\n",
      "WARNING: Fitting splines and a linear function to a feature introduces a model identifiability problem\n",
      "         which can cause p-values to appear significant when they are not.\n",
      "\n",
      "WARNING: p-values calculated in this manner behave correctly for un-penalized models or models with\n",
      "         known smoothing parameters, but when smoothing parameters have been estimated, the p-values\n",
      "         are typically lower than they should be, meaning that the tests reject the null too readily.\n"
     ]
    }
   ],
   "source": [
    "gam.summary()"
   ]
  },
  {
   "cell_type": "code",
   "execution_count": 24,
   "metadata": {},
   "outputs": [],
   "source": [
    "y_train_predicted = gam.predict(X_train)\n",
    "y_test_predicted = gam.predict(X_test)"
   ]
  },
  {
   "cell_type": "code",
   "execution_count": 25,
   "metadata": {},
   "outputs": [
    {
     "name": "stdout",
     "output_type": "stream",
     "text": [
      "RMSE of training set is 108.63026964459375\n",
      "R2 score of training set is 0.9995926551689577\n",
      "\n"
     ]
    }
   ],
   "source": [
    "rmse_train = np.sqrt(mean_squared_error(y_train, y_train_predicted))\n",
    "r2_train = r2_score(y_train, y_train_predicted)\n",
    "print(\"RMSE of training set is {}\".format(rmse_train))\n",
    "print(\"R2 score of training set is {}\\n\".format(r2_train))"
   ]
  },
  {
   "cell_type": "code",
   "execution_count": 26,
   "metadata": {},
   "outputs": [
    {
     "data": {
      "text/plain": [
       "11    20497\n",
       "12    24357\n",
       "13    28094\n",
       "14    31201\n",
       "15    34600\n",
       "16    36995\n",
       "Name: confirmed, dtype: int64"
      ]
     },
     "execution_count": 26,
     "metadata": {},
     "output_type": "execute_result"
    }
   ],
   "source": [
    "y_test"
   ]
  },
  {
   "cell_type": "code",
   "execution_count": 27,
   "metadata": {},
   "outputs": [
    {
     "data": {
      "text/plain": [
       "array([20367.05494049, 23872.30619366, 26336.32738317, 29300.01977048,\n",
       "       34031.82896521, 38746.56418227])"
      ]
     },
     "execution_count": 27,
     "metadata": {},
     "output_type": "execute_result"
    }
   ],
   "source": [
    "y_test_predicted"
   ]
  },
  {
   "cell_type": "code",
   "execution_count": 28,
   "metadata": {},
   "outputs": [
    {
     "name": "stdout",
     "output_type": "stream",
     "text": [
      "RMSE of testing set is 1313.1227458989722\n",
      "R2 score of testing set is 0.9467528635737907\n",
      "\n"
     ]
    }
   ],
   "source": [
    "rmse_test = np.sqrt(mean_squared_error(y_test, y_test_predicted))\n",
    "r2_test = r2_score(y_test, y_test_predicted)\n",
    "print(\"RMSE of testing set is {}\".format(rmse_test))\n",
    "print(\"R2 score of testing set is {}\\n\".format(r2_test))"
   ]
  },
  {
   "cell_type": "code",
   "execution_count": null,
   "metadata": {},
   "outputs": [],
   "source": []
  },
  {
   "cell_type": "markdown",
   "metadata": {},
   "source": [
    "## Polynomial regression"
   ]
  },
  {
   "cell_type": "code",
   "execution_count": 9,
   "metadata": {},
   "outputs": [
    {
     "name": "stdout",
     "output_type": "stream",
     "text": [
      "Train dataset: data before 2020-01-30 00:00:00 \n",
      "Test dataset: the last 10 days\n"
     ]
    }
   ],
   "source": [
    "\"\"\"\n",
    "Sum up all province  \n",
    "\"\"\"\n",
    "# China total\n",
    "overall_df = pd.DataFrame(DXYArea.groupby(['updateDate']).agg({'confirmed': \"sum\",\n",
    "                                                                'cured': \"sum\",\n",
    "                                                                'dead': 'sum',\n",
    "                                                                'Days': 'mean'})).reset_index()\n",
    "Train, Test = split_train_test_by_date(overall_df)\n",
    "\n",
    "X_train = Train['Days']\n",
    "y_train = Train['confirmed']\n",
    "X_test =  Test['Days']\n",
    "y_test = Test['confirmed']"
   ]
  },
  {
   "cell_type": "markdown",
   "metadata": {},
   "source": [
    "### Case1: Overall "
   ]
  },
  {
   "cell_type": "code",
   "execution_count": 10,
   "metadata": {},
   "outputs": [
    {
     "name": "stdout",
     "output_type": "stream",
     "text": [
      "Degree 1:\n",
      "RMSE of training set is 432.6537638401859\n",
      "R2 score of training set is 0.945043576678515\n",
      "\n",
      "RMSE of test set is 11606.77526070426\n",
      "R2 score of test set is -0.4360240060756915\n",
      "---------------------------------------\n",
      "\n",
      "Degree 3:\n",
      "RMSE of training set is 131.69973966793492\n",
      "R2 score of training set is 0.9949077780944563\n",
      "\n",
      "RMSE of test set is 1316.287520038485\n",
      "R2 score of test set is 0.9815311405317501\n",
      "---------------------------------------\n",
      "\n",
      "Degree 2:\n",
      "RMSE of training set is 132.6872127545397\n",
      "R2 score of training set is 0.9948311297507825\n",
      "\n",
      "RMSE of test set is 4364.768196845042\n",
      "R2 score of test set is 0.7969229164229359\n",
      "---------------------------------------\n",
      "\n"
     ]
    },
    {
     "data": {
      "image/png": "[encoded data removed]",
      "text/plain": [
       "<Figure size 432x288 with 1 Axes>"
      ]
     },
     "metadata": {
      "needs_background": "light"
     },
     "output_type": "display_data"
    }
   ],
   "source": [
    "\"\"\"\n",
    "Model selection:\n",
    "  find optimal degree level\n",
    "  Then draw plot using the optimal degree\n",
    "\"\"\"\n",
    "# select the best degree \n",
    "create_polynomial_regression_model(1, \"Overall\", overall_df, X_train, X_test, y_train, y_test, draw_plot = False)\n",
    "create_polynomial_regression_model(3, \"Overall\", overall_df, X_train, X_test, y_train, y_test, draw_plot = False)\n",
    "create_polynomial_regression_model(2, \"Overall\", overall_df, X_train, X_test, y_train, y_test, draw_plot = True)"
   ]
  },
  {
   "cell_type": "markdown",
   "metadata": {},
   "source": [
    "**based on the result above, we can clearly see that degree = 2 gives us best estimation. So now we use degree = 2 to predict the next 4 days**"
   ]
  },
  {
   "cell_type": "code",
   "execution_count": 9,
   "metadata": {},
   "outputs": [
    {
     "name": "stdout",
     "output_type": "stream",
     "text": [
      "Degree 2:\n",
      "RMSE of training set is 297.6580589182098\n",
      "R2 score of training set is 0.9992487131906561\n",
      "\n",
      "---------------------------------------\n",
      "\n"
     ]
    },
    {
     "data": {
      "image/png": "[encoded data removed]",
      "text/plain": [
       "<Figure size 432x288 with 1 Axes>"
      ]
     },
     "metadata": {
      "needs_background": "light"
     },
     "output_type": "display_data"
    }
   ],
   "source": [
    "forecast_next_4_days(2, \"Overall\", overall_df)"
   ]
  },
  {
   "cell_type": "markdown",
   "metadata": {},
   "source": [
    "### Case2: Each Province"
   ]
  },
  {
   "cell_type": "code",
   "execution_count": 10,
   "metadata": {},
   "outputs": [
    {
     "name": "stdout",
     "output_type": "stream",
     "text": [
      "Train dataset: data before 2020-02-06 00:00:00 \n",
      "Test dataset: the last 3 days\n",
      "Degree 1:\n",
      "RMSE of training set is 1400.4742561046387\n",
      "R2 score of training set is 0.9226740677396366\n",
      "\n",
      "RMSE of test set is 5992.177104992286\n",
      "R2 score of test set is -6.69014841400451\n",
      "---------------------------------------\n",
      "\n",
      "Degree 3:\n",
      "RMSE of training set is 163.6631392992854\n",
      "R2 score of training set is 0.9989439690187146\n",
      "\n",
      "RMSE of test set is 1495.2000531131437\n",
      "R2 score of test set is 0.521189079294307\n",
      "---------------------------------------\n",
      "\n",
      "Degree 2:\n",
      "RMSE of training set is 237.2133877906418\n",
      "R2 score of training set is 0.9977815313454274\n",
      "\n",
      "RMSE of test set is 434.0727925730869\n",
      "R2 score of test set is 0.9596456301170528\n",
      "---------------------------------------\n",
      "\n"
     ]
    },
    {
     "data": {
      "image/png": "[encoded data removed]",
      "text/plain": [
       "<Figure size 432x288 with 1 Axes>"
      ]
     },
     "metadata": {
      "needs_background": "light"
     },
     "output_type": "display_data"
    },
    {
     "name": "stdout",
     "output_type": "stream",
     "text": [
      "Degree 2:\n",
      "RMSE of training set is 297.6580589182098\n",
      "R2 score of training set is 0.9992487131906561\n",
      "\n",
      "---------------------------------------\n",
      "\n"
     ]
    },
    {
     "data": {
      "image/png": "[encoded data removed]",
      "text/plain": [
       "<Figure size 432x288 with 1 Axes>"
      ]
     },
     "metadata": {
      "needs_background": "light"
     },
     "output_type": "display_data"
    }
   ],
   "source": [
    "# See Hubei Province \n",
    "Hubei= DXYArea[DXYArea['provinceName'] == 'Hubei Province']\n",
    " \n",
    "X_train, X_test, y_train, y_test = data_processing(Hubei)    \n",
    "\n",
    "# select the best degree \n",
    "create_polynomial_regression_model(1, \"Hubei Probince\", overall_df, X_train, X_test, y_train, y_test, draw_plot = False)\n",
    "create_polynomial_regression_model(3, \"Hubei Probince\", overall_df, X_train, X_test, y_train, y_test, draw_plot = False)\n",
    "create_polynomial_regression_model(2, \"Hubei Probince\", overall_df, X_train, X_test, y_train, y_test, draw_plot = True)\n",
    "\n",
    "forecast_next_4_days(2, \"Hubei Probince\", overall_df)"
   ]
  },
  {
   "cell_type": "code",
   "execution_count": 13,
   "metadata": {},
   "outputs": [
    {
     "name": "stdout",
     "output_type": "stream",
     "text": [
      "Train dataset: data before 2020-02-06 00:00:00 \n",
      "Test dataset: the last 3 days\n",
      "Degree 1:\n",
      "RMSE of training set is 285.14341796386464\n",
      "R2 score of training set is 0.9861016952837389\n",
      "\n",
      "RMSE of test set is 351.0548151138066\n",
      "R2 score of test set is 0.5027297394420859\n",
      "---------------------------------------\n",
      "\n",
      "Degree 3:\n",
      "RMSE of training set is 89.6359273810185\n",
      "R2 score of training set is 0.998626592675521\n",
      "\n",
      "RMSE of test set is 310.8504972967935\n",
      "R2 score of test set is 0.6101067187866627\n",
      "---------------------------------------\n",
      "\n"
     ]
    },
    {
     "data": {
      "image/png": "[encoded data removed]",
      "text/plain": [
       "<Figure size 432x288 with 1 Axes>"
      ]
     },
     "metadata": {
      "needs_background": "light"
     },
     "output_type": "display_data"
    },
    {
     "name": "stdout",
     "output_type": "stream",
     "text": [
      "Degree 2:\n",
      "RMSE of training set is 145.3798893459301\n",
      "R2 score of training set is 0.9963872010424277\n",
      "\n",
      "RMSE of test set is 712.6828547445574\n",
      "R2 score of test set is -1.0494401507749278\n",
      "---------------------------------------\n",
      "\n",
      "Degree 2:\n",
      "RMSE of training set is 297.6580589182098\n",
      "R2 score of training set is 0.9992487131906561\n",
      "\n",
      "---------------------------------------\n",
      "\n"
     ]
    },
    {
     "data": {
      "image/png": "[encoded data removed]",
      "text/plain": [
       "<Figure size 432x288 with 1 Axes>"
      ]
     },
     "metadata": {
      "needs_background": "light"
     },
     "output_type": "display_data"
    }
   ],
   "source": [
    "# See Hubei Province \n",
    "NotHubei= DXYArea[DXYArea['provinceName'] != 'Hubei Province']\n",
    " \n",
    "X_train, X_test, y_train, y_test = data_processing(NotHubei)    \n",
    "\n",
    "# select the best degree \n",
    "create_polynomial_regression_model(1, \"Ex-Hubei\", overall_df, X_train, X_test, y_train, y_test, draw_plot = False)\n",
    "create_polynomial_regression_model(3, \"Ex-Hubei\", overall_df, X_train, X_test, y_train, y_test, draw_plot = True)\n",
    "create_polynomial_regression_model(2, \"Ex-Hubei\", overall_df, X_train, X_test, y_train, y_test, draw_plot = False)\n",
    "\n",
    "forecast_next_4_days(3, \"Ex-Hubei\", overall_df)"
   ]
  },
  {
   "cell_type": "code",
   "execution_count": null,
   "metadata": {},
   "outputs": [],
   "source": []
  }
 ],
 "metadata": {
  "kernelspec": {
   "display_name": "Python 3",
   "language": "python",
   "name": "python3"
  },
  "language_info": {
   "codemirror_mode": {
    "name": "ipython",
    "version": 3
   },
   "file_extension": ".py",
   "mimetype": "text/x-python",
   "name": "python",
   "nbconvert_exporter": "python",
   "pygments_lexer": "ipython3",
   "version": "3.7.6"
  }
 },
 "nbformat": 4,
 "nbformat_minor": 2
}
